{
 "cells": [
  {
   "cell_type": "code",
   "execution_count": 2,
   "id": "2b802f99-4d3e-40ec-8b51-9e6a5b827dbe",
   "metadata": {},
   "outputs": [],
   "source": [
    "import pandas as pd\n",
    "from patsy import dmatrices\n",
    "import statsmodels.api as sm"
   ]
  },
  {
   "cell_type": "code",
   "execution_count": 3,
   "id": "8c5fe3dd-b77a-47b5-835d-5d59e772a416",
   "metadata": {},
   "outputs": [],
   "source": [
    "df = pd.read_csv('vaccine_trial_simulation_study.csv', header = 0)"
   ]
  },
  {
   "cell_type": "code",
   "execution_count": 4,
   "id": "20cf625a-32c6-4b95-81e3-7ec0312cfc4c",
   "metadata": {},
   "outputs": [],
   "source": [
    "expr = 'INFECTED ~ INTERVAL_BETWEEN_DOSES + VACCINATED'"
   ]
  },
  {
   "cell_type": "code",
   "execution_count": 5,
   "id": "d73adf90-e76e-4459-b273-418bbbb5b914",
   "metadata": {},
   "outputs": [],
   "source": [
    "y_train, X_train = dmatrices(expr, df, return_type = 'dataframe')"
   ]
  },
  {
   "cell_type": "code",
   "execution_count": 6,
   "id": "55fb952d-28dd-4606-ac88-2af12ef1c59b",
   "metadata": {},
   "outputs": [
    {
     "name": "stdout",
     "output_type": "stream",
     "text": [
      "Optimization terminated successfully.\n",
      "         Current function value: 0.170907\n",
      "         Iterations 9\n"
     ]
    }
   ],
   "source": [
    "logit_model = sm.Logit(endog = y_train, exog = X_train)\n",
    "logit_results = logit_model.fit()"
   ]
  },
  {
   "cell_type": "code",
   "execution_count": 7,
   "id": "098f6820-0432-44ea-b3d9-7bb322403b7e",
   "metadata": {},
   "outputs": [
    {
     "name": "stdout",
     "output_type": "stream",
     "text": [
      "                           Logit Regression Results                           \n",
      "==============================================================================\n",
      "Dep. Variable:               INFECTED   No. Observations:                12000\n",
      "Model:                          Logit   Df Residuals:                    11997\n",
      "Method:                           MLE   Df Model:                            2\n",
      "Date:                Thu, 24 Mar 2022   Pseudo R-squ.:                  0.1238\n",
      "Time:                        20:00:47   Log-Likelihood:                -2050.9\n",
      "converged:                       True   LL-Null:                       -2340.8\n",
      "Covariance Type:            nonrobust   LLR p-value:                1.254e-126\n",
      "==========================================================================================\n",
      "                             coef    std err          z      P>|z|      [0.025      0.975]\n",
      "------------------------------------------------------------------------------------------\n",
      "Intercept                 -2.3154      0.063    -36.816      0.000      -2.439      -2.192\n",
      "INTERVAL_BETWEEN_DOSES     0.0347      0.086      0.401      0.688      -0.135       0.204\n",
      "VACCINATED                -2.9491      0.186    -15.898      0.000      -3.313      -2.585\n",
      "==========================================================================================\n"
     ]
    }
   ],
   "source": [
    "print(logit_results.summary())"
   ]
  },
  {
   "cell_type": "code",
   "execution_count": 7,
   "id": "892d8466-214c-4268-8b77-4642c613af1c",
   "metadata": {},
   "outputs": [],
   "source": [
    "# extremely low p-value indicates high statistical significance\n",
    "# low R-squared indicates other factors at play, can try poisson regression"
   ]
  },
  {
   "cell_type": "code",
   "execution_count": null,
   "id": "d2a1a9fe-b2ca-4f28-b836-8f3d0bf7c865",
   "metadata": {},
   "outputs": [],
   "source": []
  }
 ],
 "metadata": {
  "kernelspec": {
   "display_name": "Python 3 (ipykernel)",
   "language": "python",
   "name": "python3"
  },
  "language_info": {
   "codemirror_mode": {
    "name": "ipython",
    "version": 3
   },
   "file_extension": ".py",
   "mimetype": "text/x-python",
   "name": "python",
   "nbconvert_exporter": "python",
   "pygments_lexer": "ipython3",
   "version": "3.8.8"
  }
 },
 "nbformat": 4,
 "nbformat_minor": 5
}
